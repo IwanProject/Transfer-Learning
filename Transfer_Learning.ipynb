{
  "nbformat": 4,
  "nbformat_minor": 0,
  "metadata": {
    "colab": {
      "name": "Transfer Learning.ipynb",
      "provenance": [],
      "collapsed_sections": [],
      "authorship_tag": "ABX9TyMsoSlJ6tVwObltiOH1qnwO",
      "include_colab_link": true
    },
    "kernelspec": {
      "display_name": "Python 3",
      "name": "python3"
    },
    "language_info": {
      "name": "python"
    }
  },
  "cells": [
    {
      "cell_type": "markdown",
      "metadata": {
        "id": "view-in-github",
        "colab_type": "text"
      },
      "source": [
        "<a href=\"https://colab.research.google.com/github/iwanradjasa/Transfer-Learning/blob/main/Transfer_Learning.ipynb\" target=\"_parent\"><img src=\"https://colab.research.google.com/assets/colab-badge.svg\" alt=\"Open In Colab\"/></a>"
      ]
    },
    {
      "cell_type": "code",
      "metadata": {
        "id": "qwLUn1DShT7t"
      },
      "source": [
        "!wget --no-check-certificate \\\n",
        "https://dicodingacademy.blob.core.windows.net/picodiploma/ml_pengembangan_academy/Chessman-image-dataset.zip \\\n",
        "-o /tmp/Chessman-image-dataset.zip"
      ],
      "execution_count": null,
      "outputs": []
    },
    {
      "cell_type": "code",
      "metadata": {
        "id": "dLVR7vbqqpvR"
      },
      "source": [
        "import os\n",
        "import zipfile\n",
        "from tensorflow.keras.preprocessing.image import ImageDataGenerator\n",
        "local_zip = 'Chessman-image-dataset.zip'\n",
        "zip_ref = zipfile.ZipFile(local_zip, 'r')\n",
        "zip_ref.extractall()\n",
        "zip_ref.close()\n",
        "train_dir = os.path.join('/tmp/Chessman-image-dataset/Chess')\n",
        "train_datagen = ImageDataGenerator(rescale=1./255,\n",
        "    rotation_range=20,\n",
        "    zoom_range=0.2,\n",
        "    shear_range=0.2,\n",
        "    fill_mode = 'nearest',\n",
        "    validation_split=0.1) # set validation split\n",
        "    "
      ],
      "execution_count": null,
      "outputs": []
    },
    {
      "cell_type": "code",
      "metadata": {
        "colab": {
          "base_uri": "https://localhost:8080/"
        },
        "id": "oq5-AZsnmTvh",
        "outputId": "10375711-d074-405b-997c-1e5c90a64f37"
      },
      "source": [
        "train_generator = train_datagen.flow_from_directory(\n",
        "    train_dir,\n",
        "    target_size=(150, 150),\n",
        "    batch_size=8,\n",
        "    class_mode='categorical',\n",
        "    subset='training') # set as training data\n",
        "validation_generator = train_datagen.flow_from_directory(\n",
        "    train_dir, # same directory as training data\n",
        "    target_size=(150, 150),\n",
        "    batch_size=16,\n",
        "    class_mode='categorical',\n",
        "    subset='validation')"
      ],
      "execution_count": null,
      "outputs": [
        {
          "output_type": "stream",
          "text": [
            "Found 499 images belonging to 6 classes.\n",
            "Found 52 images belonging to 6 classes.\n"
          ],
          "name": "stdout"
        }
      ]
    },
    {
      "cell_type": "code",
      "metadata": {
        "id": "-mQoRx9QrA7D"
      },
      "source": [
        "import tensorflow as tf\n",
        "from tensorflow.keras.layers import Input\n",
        "from tensorflow.keras.applications import ResNet50\n",
        "from tensorflow.keras.applications import ResNet152V2\n",
        "model = tf.keras.models.Sequential([\n",
        "    ResNet152V2(weights=\"imagenet\", include_top=False, input_tensor=Input(shape=(150, 150, 3))),\n",
        "    # tf.keras.layers.Dropout(0.4),\n",
        "    tf.keras.layers.Flatten(), \n",
        "    tf.keras.layers.Dense(512, activation='relu'),\n",
        "    tf.keras.layers.Dense(256, activation='relu'),\n",
        "    tf.keras.layers.Dense(6, activation='softmax')  \n",
        "])\n",
        "model.layers[0].trainable = False"
      ],
      "execution_count": null,
      "outputs": []
    },
    {
      "cell_type": "code",
      "metadata": {
        "id": "6Z2OeBG4rFpb"
      },
      "source": [
        "model.compile(optimizer=tf.optimizers.Adam(),\n",
        "              loss='categorical_crossentropy',\n",
        "              metrics = ['accuracy'])"
      ],
      "execution_count": null,
      "outputs": []
    },
    {
      "cell_type": "code",
      "metadata": {
        "colab": {
          "background_save": true,
          "base_uri": "https://localhost:8080/"
        },
        "id": "Kz3G6yJhrLQJ",
        "outputId": "75e23ac9-249b-4c4f-c3f8-c28b43e17df0"
      },
      "source": [
        "history = model.fit(train_generator,\n",
        "                              validation_data=validation_generator,\n",
        "                              epochs=50,\n",
        "                              verbose=2)"
      ],
      "execution_count": null,
      "outputs": [
        {
          "output_type": "stream",
          "text": [
            "Epoch 1/50\n",
            "63/63 - 99s - loss: 10.6211 - accuracy: 0.3888 - val_loss: 2.3886 - val_accuracy: 0.5577\n",
            "Epoch 2/50\n",
            "63/63 - 88s - loss: 1.9682 - accuracy: 0.6713 - val_loss: 1.7386 - val_accuracy: 0.6923\n",
            "Epoch 3/50\n",
            "63/63 - 89s - loss: 1.3148 - accuracy: 0.6954 - val_loss: 1.0189 - val_accuracy: 0.6731\n",
            "Epoch 4/50\n",
            "63/63 - 89s - loss: 0.8059 - accuracy: 0.7956 - val_loss: 0.7121 - val_accuracy: 0.7885\n",
            "Epoch 5/50\n",
            "63/63 - 89s - loss: 0.6183 - accuracy: 0.8257 - val_loss: 1.0980 - val_accuracy: 0.7885\n",
            "Epoch 6/50\n",
            "63/63 - 88s - loss: 0.5585 - accuracy: 0.8317 - val_loss: 1.1526 - val_accuracy: 0.7500\n",
            "Epoch 7/50\n",
            "63/63 - 88s - loss: 0.6482 - accuracy: 0.8337 - val_loss: 0.9778 - val_accuracy: 0.7692\n",
            "Epoch 8/50\n",
            "63/63 - 88s - loss: 0.5123 - accuracy: 0.8637 - val_loss: 0.9665 - val_accuracy: 0.6923\n",
            "Epoch 9/50\n",
            "63/63 - 88s - loss: 0.3866 - accuracy: 0.8918 - val_loss: 1.4551 - val_accuracy: 0.7308\n",
            "Epoch 10/50\n",
            "63/63 - 88s - loss: 0.2784 - accuracy: 0.9158 - val_loss: 0.5758 - val_accuracy: 0.7885\n",
            "Epoch 11/50\n",
            "63/63 - 89s - loss: 0.3237 - accuracy: 0.9038 - val_loss: 0.9347 - val_accuracy: 0.7692\n",
            "Epoch 12/50\n",
            "63/63 - 89s - loss: 0.2824 - accuracy: 0.9379 - val_loss: 0.9736 - val_accuracy: 0.8077\n",
            "Epoch 13/50\n",
            "63/63 - 89s - loss: 0.2574 - accuracy: 0.9198 - val_loss: 0.7889 - val_accuracy: 0.7692\n",
            "Epoch 14/50\n",
            "63/63 - 88s - loss: 0.3151 - accuracy: 0.9218 - val_loss: 1.7101 - val_accuracy: 0.6923\n",
            "Epoch 15/50\n",
            "63/63 - 89s - loss: 0.4448 - accuracy: 0.8958 - val_loss: 1.4829 - val_accuracy: 0.6538\n",
            "Epoch 16/50\n",
            "63/63 - 89s - loss: 0.3354 - accuracy: 0.8978 - val_loss: 1.0495 - val_accuracy: 0.7500\n",
            "Epoch 17/50\n",
            "63/63 - 89s - loss: 0.2791 - accuracy: 0.9178 - val_loss: 2.2427 - val_accuracy: 0.6731\n",
            "Epoch 18/50\n",
            "63/63 - 89s - loss: 0.2513 - accuracy: 0.9218 - val_loss: 2.3388 - val_accuracy: 0.5769\n",
            "Epoch 19/50\n",
            "63/63 - 88s - loss: 0.3509 - accuracy: 0.9098 - val_loss: 1.0443 - val_accuracy: 0.7308\n",
            "Epoch 20/50\n",
            "63/63 - 88s - loss: 0.3216 - accuracy: 0.9339 - val_loss: 1.3062 - val_accuracy: 0.7692\n",
            "Epoch 21/50\n",
            "63/63 - 90s - loss: 0.1989 - accuracy: 0.9499 - val_loss: 0.8479 - val_accuracy: 0.8077\n",
            "Epoch 22/50\n",
            "63/63 - 89s - loss: 0.4050 - accuracy: 0.9579 - val_loss: 2.2534 - val_accuracy: 0.7500\n",
            "Epoch 23/50\n",
            "63/63 - 88s - loss: 0.3041 - accuracy: 0.9178 - val_loss: 1.6796 - val_accuracy: 0.7115\n",
            "Epoch 24/50\n",
            "63/63 - 89s - loss: 0.4501 - accuracy: 0.9158 - val_loss: 1.2185 - val_accuracy: 0.7885\n",
            "Epoch 25/50\n",
            "63/63 - 89s - loss: 0.1569 - accuracy: 0.9539 - val_loss: 0.6704 - val_accuracy: 0.8462\n",
            "Epoch 26/50\n",
            "63/63 - 89s - loss: 0.1297 - accuracy: 0.9579 - val_loss: 0.8691 - val_accuracy: 0.7885\n",
            "Epoch 27/50\n",
            "63/63 - 89s - loss: 0.0906 - accuracy: 0.9719 - val_loss: 1.0103 - val_accuracy: 0.8077\n",
            "Epoch 28/50\n",
            "63/63 - 89s - loss: 0.0889 - accuracy: 0.9760 - val_loss: 1.4778 - val_accuracy: 0.7308\n",
            "Epoch 29/50\n",
            "63/63 - 88s - loss: 0.0853 - accuracy: 0.9780 - val_loss: 1.3862 - val_accuracy: 0.8077\n",
            "Epoch 30/50\n",
            "63/63 - 89s - loss: 0.0871 - accuracy: 0.9760 - val_loss: 1.7728 - val_accuracy: 0.6731\n",
            "Epoch 31/50\n",
            "63/63 - 89s - loss: 0.1098 - accuracy: 0.9760 - val_loss: 1.2883 - val_accuracy: 0.6538\n",
            "Epoch 32/50\n",
            "63/63 - 89s - loss: 0.0438 - accuracy: 0.9800 - val_loss: 1.7393 - val_accuracy: 0.7308\n",
            "Epoch 33/50\n",
            "63/63 - 89s - loss: 0.0792 - accuracy: 0.9840 - val_loss: 1.5613 - val_accuracy: 0.6731\n",
            "Epoch 34/50\n",
            "63/63 - 89s - loss: 0.0948 - accuracy: 0.9699 - val_loss: 0.6809 - val_accuracy: 0.7692\n",
            "Epoch 35/50\n",
            "63/63 - 92s - loss: 0.0777 - accuracy: 0.9719 - val_loss: 1.1703 - val_accuracy: 0.7692\n",
            "Epoch 36/50\n",
            "63/63 - 92s - loss: 0.1894 - accuracy: 0.9499 - val_loss: 0.9581 - val_accuracy: 0.8077\n",
            "Epoch 37/50\n",
            "63/63 - 92s - loss: 0.2542 - accuracy: 0.9299 - val_loss: 1.0615 - val_accuracy: 0.7692\n",
            "Epoch 38/50\n",
            "63/63 - 91s - loss: 0.1384 - accuracy: 0.9599 - val_loss: 1.3308 - val_accuracy: 0.7115\n",
            "Epoch 39/50\n",
            "63/63 - 92s - loss: 0.1947 - accuracy: 0.9619 - val_loss: 1.3307 - val_accuracy: 0.7500\n",
            "Epoch 40/50\n",
            "63/63 - 92s - loss: 0.2213 - accuracy: 0.9519 - val_loss: 2.8604 - val_accuracy: 0.5769\n",
            "Epoch 41/50\n",
            "63/63 - 92s - loss: 0.1399 - accuracy: 0.9559 - val_loss: 1.2882 - val_accuracy: 0.7500\n",
            "Epoch 42/50\n",
            "63/63 - 92s - loss: 0.1516 - accuracy: 0.9479 - val_loss: 1.3308 - val_accuracy: 0.6923\n",
            "Epoch 43/50\n",
            "63/63 - 92s - loss: 0.1090 - accuracy: 0.9800 - val_loss: 0.5519 - val_accuracy: 0.8077\n",
            "Epoch 44/50\n",
            "63/63 - 92s - loss: 0.1920 - accuracy: 0.9619 - val_loss: 1.5726 - val_accuracy: 0.7500\n",
            "Epoch 45/50\n",
            "63/63 - 92s - loss: 0.3119 - accuracy: 0.9238 - val_loss: 0.6241 - val_accuracy: 0.7692\n",
            "Epoch 46/50\n",
            "63/63 - 91s - loss: 0.1600 - accuracy: 0.9619 - val_loss: 1.6339 - val_accuracy: 0.6731\n",
            "Epoch 47/50\n",
            "63/63 - 92s - loss: 0.1922 - accuracy: 0.9599 - val_loss: 0.5458 - val_accuracy: 0.8654\n",
            "Epoch 48/50\n",
            "63/63 - 92s - loss: 0.3009 - accuracy: 0.9359 - val_loss: 1.2621 - val_accuracy: 0.7308\n",
            "Epoch 49/50\n",
            "63/63 - 92s - loss: 0.2461 - accuracy: 0.9539 - val_loss: 1.7381 - val_accuracy: 0.6923\n",
            "Epoch 50/50\n",
            "63/63 - 91s - loss: 0.1023 - accuracy: 0.9820 - val_loss: 0.6028 - val_accuracy: 0.8462\n"
          ],
          "name": "stdout"
        }
      ]
    }
  ]
}